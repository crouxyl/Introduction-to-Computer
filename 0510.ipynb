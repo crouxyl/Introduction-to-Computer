{
  "nbformat": 4,
  "nbformat_minor": 0,
  "metadata": {
    "colab": {
      "provenance": [],
      "include_colab_link": true
    },
    "kernelspec": {
      "name": "python3",
      "display_name": "Python 3"
    },
    "language_info": {
      "name": "python"
    }
  },
  "cells": [
    {
      "cell_type": "markdown",
      "metadata": {
        "id": "view-in-github",
        "colab_type": "text"
      },
      "source": [
        "<a href=\"https://colab.research.google.com/github/crouxyl/Introduction-to-Computer/blob/main/0510.ipynb\" target=\"_parent\"><img src=\"https://colab.research.google.com/assets/colab-badge.svg\" alt=\"Open In Colab\"/></a>"
      ]
    },
    {
      "cell_type": "code",
      "execution_count": null,
      "metadata": {
        "colab": {
          "base_uri": "https://localhost:8080/"
        },
        "id": "m0XP5m8yzgO_",
        "outputId": "42ac59c5-5239-4679-9006-8f54be75d605"
      },
      "outputs": [
        {
          "output_type": "stream",
          "name": "stdout",
          "text": [
            "hi\n"
          ]
        }
      ],
      "source": [
        "print(\"hi\")"
      ]
    },
    {
      "cell_type": "code",
      "source": [
        "score=int(input(\"請輸入分數：\"))\n",
        "if score>=60:\n",
        "  print(\"及格\")\n",
        "else:\n",
        "  print(\"不及格\")"
      ],
      "metadata": {
        "colab": {
          "base_uri": "https://localhost:8080/"
        },
        "id": "1FEQ--SHzjv0",
        "outputId": "8e57950b-8d38-4f52-8260-3e4c7d5b9b88"
      },
      "execution_count": null,
      "outputs": [
        {
          "output_type": "stream",
          "name": "stdout",
          "text": [
            "請輸入分數：40\n",
            "不及格\n"
          ]
        }
      ]
    },
    {
      "cell_type": "code",
      "source": [
        "code=int(input(\"請輸入密碼\"))\n",
        "if code==1189:\n",
        "  print(\"歡迎光臨\")"
      ],
      "metadata": {
        "colab": {
          "base_uri": "https://localhost:8080/"
        },
        "id": "pib81kP7z-Qg",
        "outputId": "b46503c1-ba55-42e9-8375-e7fac2a30ac8"
      },
      "execution_count": null,
      "outputs": [
        {
          "name": "stdout",
          "output_type": "stream",
          "text": [
            "請輸入密碼1030\n"
          ]
        }
      ]
    },
    {
      "cell_type": "code",
      "source": [
        "password=int(input(\"請輸入密碼\"))\n",
        "if password==1020:\n",
        "  print(\"歡迎光臨\")\n",
        "else:\n",
        "  print(\"密碼錯誤\")"
      ],
      "metadata": {
        "colab": {
          "base_uri": "https://localhost:8080/"
        },
        "id": "1diG4Q0j0Sx7",
        "outputId": "ec37423f-4d25-46fc-c87d-ea49f68ddee5"
      },
      "execution_count": null,
      "outputs": [
        {
          "output_type": "stream",
          "name": "stdout",
          "text": [
            "請輸入密碼1234\n",
            "密碼錯誤\n"
          ]
        }
      ]
    },
    {
      "cell_type": "code",
      "source": [
        "a=int(input(\"請輸入正整數\"))\n",
        "if a%2==0:\n",
        "  print(\"偶數\")\n",
        "else:\n",
        "  print(\"奇數\")"
      ],
      "metadata": {
        "colab": {
          "base_uri": "https://localhost:8080/"
        },
        "id": "iMTPBK9U2QR1",
        "outputId": "2a68835c-5f9a-4e97-d543-6b1947cbce0d"
      },
      "execution_count": null,
      "outputs": [
        {
          "output_type": "stream",
          "name": "stdout",
          "text": [
            "請輸入正整數5\n",
            "奇數\n"
          ]
        }
      ]
    },
    {
      "cell_type": "code",
      "source": [
        "rain=str(input(\"今天會下雨嗎？\"))\n",
        "if (rain==\"Y\" or rain==\"y\"):\n",
        "  print(\"記得帶傘\")\n",
        "else:\n",
        "  print(\"不用帶傘\")"
      ],
      "metadata": {
        "colab": {
          "base_uri": "https://localhost:8080/"
        },
        "id": "At-0lZXR2x_c",
        "outputId": "95665dee-d92a-4de8-d0a0-b3fd8d0067ca"
      },
      "execution_count": null,
      "outputs": [
        {
          "output_type": "stream",
          "name": "stdout",
          "text": [
            "今天會下雨嗎？Q\n",
            "不用帶傘\n"
          ]
        }
      ]
    }
  ]
}