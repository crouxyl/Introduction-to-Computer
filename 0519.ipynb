{
  "nbformat": 4,
  "nbformat_minor": 0,
  "metadata": {
    "colab": {
      "provenance": [],
      "include_colab_link": true
    },
    "kernelspec": {
      "name": "python3",
      "display_name": "Python 3"
    },
    "language_info": {
      "name": "python"
    }
  },
  "cells": [
    {
      "cell_type": "markdown",
      "metadata": {
        "id": "view-in-github",
        "colab_type": "text"
      },
      "source": [
        "<a href=\"https://colab.research.google.com/github/crouxyl/Introduction-to-Computer/blob/main/0519.ipynb\" target=\"_parent\"><img src=\"https://colab.research.google.com/assets/colab-badge.svg\" alt=\"Open In Colab\"/></a>"
      ]
    },
    {
      "cell_type": "code",
      "execution_count": 1,
      "metadata": {
        "colab": {
          "base_uri": "https://localhost:8080/"
        },
        "id": "ZvOaHU3hIUwS",
        "outputId": "ee8310e3-f42d-4b08-cb72-434e59046c41"
      },
      "outputs": [
        {
          "output_type": "stream",
          "name": "stdout",
          "text": [
            "Happy\n",
            "Happy\n",
            "Happy\n",
            "Happy\n",
            "Happy\n",
            "Happy\n",
            "Happy\n",
            "Happy\n",
            "Happy\n"
          ]
        }
      ],
      "source": [
        "count=0\n",
        "while count < 9:\n",
        "  print(\"Happy\")\n",
        "  count += 1"
      ]
    },
    {
      "cell_type": "code",
      "source": [
        "for i in range(9):\n",
        "  print(\"Happy\")"
      ],
      "metadata": {
        "colab": {
          "base_uri": "https://localhost:8080/"
        },
        "id": "xJnEjeetJukB",
        "outputId": "c2593ab0-c6f1-4f6c-df73-5c97b2d320c2"
      },
      "execution_count": 2,
      "outputs": [
        {
          "output_type": "stream",
          "name": "stdout",
          "text": [
            "Happy\n",
            "Happy\n",
            "Happy\n",
            "Happy\n",
            "Happy\n",
            "Happy\n",
            "Happy\n",
            "Happy\n",
            "Happy\n"
          ]
        }
      ]
    },
    {
      "cell_type": "code",
      "source": [
        "\\secret_number=21\n",
        "print(\"猜猜看我心裡想的是哪個數字!\")\n",
        "while int(input(\"請輸入一個數字!\"))!=secret_number:\n",
        "  print(\"猜錯了，在試一次!\")\n",
        "print(\"恭喜你，猜對了!\")"
      ],
      "metadata": {
        "colab": {
          "base_uri": "https://localhost:8080/"
        },
        "id": "RrjfhIJPKCnY",
        "outputId": "7ad15ecf-3bdd-46ff-c0ba-45aae5f535d4"
      },
      "execution_count": 3,
      "outputs": [
        {
          "output_type": "stream",
          "name": "stdout",
          "text": [
            "猜猜看我心裡想的是哪個數字!\n",
            "請輸入一個數字!66\n",
            "猜錯了，在試一次!\n",
            "請輸入一個數字!90\n",
            "猜錯了，在試一次!\n",
            "請輸入一個數字!21\n",
            "恭喜你，猜對了!\n"
          ]
        }
      ]
    },
    {
      "cell_type": "code",
      "source": [
        "for j in range(5):\n",
        "  if j ==3:break\n",
        "  print(j)\n",
        "print(\"Bye!!\")"
      ],
      "metadata": {
        "colab": {
          "base_uri": "https://localhost:8080/"
        },
        "id": "2BYzplxMK65m",
        "outputId": "e98d084f-b65f-4ab4-ecb4-ab1ef43341d8"
      },
      "execution_count": 4,
      "outputs": [
        {
          "output_type": "stream",
          "name": "stdout",
          "text": [
            "0\n",
            "1\n",
            "2\n",
            "Bye!!\n"
          ]
        }
      ]
    },
    {
      "cell_type": "code",
      "source": [
        "for j in range(5):\n",
        "  if j ==3:continue\n",
        "  print(j)\n",
        "print(\"Bye!!\")"
      ],
      "metadata": {
        "colab": {
          "base_uri": "https://localhost:8080/"
        },
        "id": "Jpy8a7A5LfH2",
        "outputId": "d273ce72-133e-47f2-ae04-ecb743499a86"
      },
      "execution_count": 5,
      "outputs": [
        {
          "output_type": "stream",
          "name": "stdout",
          "text": [
            "0\n",
            "1\n",
            "2\n",
            "4\n",
            "Bye!!\n"
          ]
        }
      ]
    }
  ]
}